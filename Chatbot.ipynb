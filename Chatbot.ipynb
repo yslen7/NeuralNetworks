{
  "nbformat": 4,
  "nbformat_minor": 0,
  "metadata": {
    "colab": {
      "name": "Tarea Chatbot.ipynb",
      "provenance": [],
      "include_colab_link": true
    },
    "kernelspec": {
      "display_name": "Python 3",
      "language": "python",
      "name": "python3"
    }
  },
  "cells": [
    {
      "cell_type": "markdown",
      "metadata": {
        "id": "view-in-github",
        "colab_type": "text"
      },
      "source": [
        "<a href=\"https://colab.research.google.com/github/yslen7/NeuralNetworks/blob/main/Chatbot.ipynb\" target=\"_parent\"><img src=\"https://colab.research.google.com/assets/colab-badge.svg\" alt=\"Open In Colab\"/></a>"
      ]
    },
    {
      "cell_type": "markdown",
      "metadata": {
        "id": "R0udSu24mJS6"
      },
      "source": [
        "# Chatbot agencia ford"
      ]
    },
    {
      "cell_type": "code",
      "metadata": {
        "id": "ddXRY3homJS8"
      },
      "source": [
        "#inicialización de estados \n",
        "import re\n",
        "import time"
      ],
      "execution_count": null,
      "outputs": []
    },
    {
      "cell_type": "code",
      "metadata": {
        "id": "G83YtbkomJTB"
      },
      "source": [
        " # Lenguaje natural por expresiones regulares \n",
        "Promo_RE = r\"promociones|promos?|descuentos\"\n",
        "Cita_RE = r\"cita|servicio|agendar\"\n",
        "Info_RE=r\"info?|saber m[a|á]s|operador\"\n",
        "dia_RE = r\"\\d\\d|\\d|lunes|martes|miercoles|jueves|viernes|s[a|á]bado|domingo|mañana|semana|hoy|d[i|í]a\"\n",
        "hora_RE=r\"\\d\\d:\\d\\d|\\d|am|pm|mañana|tarde|noche\"\n",
        "Venta_RE = r\"venta|comprar|venden\"\n",
        "placa_Re = r\"\\d\\d\\d[\\s| |-]?\\w\\w\\w\" \n",
        "afirmacion_RE = r\"s[i|í]|claro|definitavamente\"\n",
        "agradecer_RE=r\"gracias\""
      ],
      "execution_count": null,
      "outputs": []
    },
    {
      "cell_type": "code",
      "metadata": {
        "id": "eHPKUA-dmJTF",
        "colab": {
          "base_uri": "https://localhost:8080/",
          "height": 377
        },
        "outputId": "39885625-940d-4add-c4bb-4f0d8e3de258"
      },
      "source": [
        "state=0\n",
        "Salida=1\n",
        "while Salida:\n",
        "    if state==0:\n",
        "        print(\"Hola, mi nombre es Fordbot, el asistente personal de la agencia FORD. ¿En qué te puedo ayudar? :D\")\n",
        "        time.sleep(1)\n",
        "        opcion=input(\"Soy capaz de informarte de nuestras promociones, venta de vehículos y ayudarte a agendar un cita de servicio. \\n\\t\")\n",
        "        if re.findall(Promo_RE, opcion, flags=0)!=[]:\n",
        "            state=1\n",
        "        elif re.findall(Cita_RE, opcion, flags=0)!=[]: \n",
        "            state=2\n",
        "        elif re.findall(Venta_RE, opcion, flags=0)!=[]:  \n",
        "            state=3\n",
        "        else:\n",
        "            print(\"Disculpa, no entiendo lo que dices. Estoy aprendiendo :c\")\n",
        "            state=0\n",
        "    ##------------PROMOCIONES---------------\n",
        "    if state == 1:\n",
        "        print(\"Nuestras promociones son: 24 meses sin intereses en SUVs y 18 meses sin intereses en Autos y Camiones. Además, tenemos precios especiales de mantenimiento desde $1900\")\n",
        "        time.sleep(1)\n",
        "        opcion=input(\"\\n\\t\")\n",
        "        if re.findall(Cita_RE, opcion, flags=0)!=[]: \n",
        "            state=2\n",
        "        elif re.findall(Venta_RE, opcion, flags=0)!=[]:  \n",
        "            state=3\n",
        "        elif re.findall(Info_RE, opcion, flags=0)!=[]:\n",
        "            state=5\n",
        "        elif re.findall(dia_RE, opcion, flags=0)!=[]:\n",
        "            state=9\n",
        "        elif re.findall(hora_RE, opcion, flags=0)!=[]:\n",
        "            state=4\n",
        "        elif re.findall(agradecer_RE, opcion, flags=0)!=[]:\n",
        "            state=6\n",
        "        else:\n",
        "            print(\"Disculpa, no entiendo lo que dices. Estoy aprendiendo :c\")\n",
        "            state=1\n",
        "    ##---------------CITA------------------\n",
        "    if state == 2:\n",
        "        name = input(\"Dime tu nombre para agendar la cita. \\n\\t\")\n",
        "        state = 8\n",
        "    if state == 8:\n",
        "        opcion = input(\"¿Para qué día? \\n\\t\")\n",
        "        if re.findall(Promo_RE, opcion, flags=0)!=[]: \n",
        "            state=1\n",
        "        elif re.findall(Venta_RE, opcion, flags=0)!=[]:  \n",
        "            state=3\n",
        "        elif re.findall(Info_RE, opcion, flags=0)!=[]:\n",
        "            state=5\n",
        "        elif re.findall(dia_RE, opcion, flags=0)!=[]:\n",
        "            state=9\n",
        "        else:\n",
        "            print(\"Disculpa, no entiendo lo que dices. Estoy aprendiendo :c\")\n",
        "            state=8\n",
        "    if state==9:\n",
        "        opcion = input(\"¿En qué horario? \\n\\t\")\n",
        "        if re.findall(Promo_RE, opcion, flags=0)!=[]: \n",
        "            state=1\n",
        "        elif re.findall(Venta_RE, opcion, flags=0)!=[]:  \n",
        "            state=3\n",
        "        elif re.findall(Info_RE, opcion, flags=0)!=[]:\n",
        "            state=5\n",
        "        elif re.findall(dia_RE, opcion, flags=0)!=[]:\n",
        "            state=4\n",
        "        else:\n",
        "            opcion=input(\"Disculpa, no entiendo lo que dices. Estoy aprendiendo :c\")\n",
        "            state=9\n",
        "    ##------------VENTA-------------------\n",
        "    if state == 3:\n",
        "        print(\"En un momento te contactará un agente de ventas\\n\\t\")\n",
        "        opcion=input()\n",
        "        if re.findall(Cita_RE, opcion, flags=0)!=[]: \n",
        "            state=2\n",
        "        elif re.findall(Venta_RE, opcion, flags=0)!=[]:  \n",
        "            state=3\n",
        "        elif re.findall(Info_RE, opcion, flags=0)!=[]:\n",
        "            state=5\n",
        "        elif re.findall(dia_RE, opcion, flags=0)!=[]:\n",
        "            state=9\n",
        "        elif re.findall(hora_RE, opcion, flags=0)!=[]:\n",
        "            state=4\n",
        "        else:\n",
        "            state=6\n",
        "    ##------------pedir placa------------\n",
        "    if state == 4:\n",
        "        placa = input(\"¿Podrías proporcionarme tu placa? \\n\\t\")\n",
        "        if re.findall(placa_Re, placa, flags=0)!=[]:\n",
        "            state = 5\n",
        "        else:\n",
        "            print(\"Oh, oh :( Tu placa es inválida. Vuelve a intentarlo, por favor.\\n\\t\")\n",
        "    ##------------operador-------------\n",
        "    if state == 5:\n",
        "        print(\"Gracias por contactarme, {}. En un momento te atenderá un operador :)\".format(name))\n",
        "        Salida=0\n",
        "    ##--------------DESPEDIDA--------\n",
        "    if state == 6:\n",
        "        opcion=input(\"¿Te puedo ayudar en algo más?  \\n\\t\")\n",
        "        if re.findall(afirmacion_RE, opcion, flags=0!=[]):\n",
        "            state=0\n",
        "        else:\n",
        "            print(\"Gracias, fue un placer atenderte :D\")\n",
        "            Salida=0  "
      ],
      "execution_count": null,
      "outputs": [
        {
          "output_type": "stream",
          "text": [
            "Hola, mi nombre es Fordbot, el asistente personal de la agencia FORD. ¿En qué te puedo ayudar? :D\n",
            "Soy capaz de informarte de nuestras promociones, venta de vehículos y ayudarte a agendar un cita de servicio. \n",
            "\tpromociones\n",
            "Nuestras promociones son: 24 meses sin intereses en SUVs y 18 meses sin intereses en Autos y Camiones. Además, tenemos precios especiales de mantenimiento desde $1900\n",
            "\n",
            "\tentonces quiero comprar \n",
            "En un momento te contactará un agente de ventas\n",
            "igual quiero agendar una cita\n",
            "Dime tu nombre para agendar la cita. \n",
            "\tYslen\n",
            "¿Para qué día? \n",
            "\ttiene promociones?\n",
            "Nuestras promociones son: 24 meses sin intereses en SUVs y 18 meses sin intereses en Autos y Camiones. Además, tenemos precios especiales de mantenimiento desde $1900\n",
            "\n",
            "\toh, entonces el 8\n",
            "¿En qué horario? \n",
            "\ta las 4pm\n",
            "¿Podrías proporcionarme tu placa? \n",
            "\t123456\n",
            "Gracias por contactarme, Yslen. En un momento te atenderá un operador :)\n"
          ],
          "name": "stdout"
        }
      ]
    },
    {
      "cell_type": "code",
      "metadata": {
        "id": "3f7a0EyTmJTL",
        "outputId": "1ffcfec8-2848-4abf-af8b-f66d0bd23880"
      },
      "source": [
        "re.findall(Cita_RE, \"quiero una\", flags=0)"
      ],
      "execution_count": null,
      "outputs": [
        {
          "output_type": "execute_result",
          "data": {
            "text/plain": [
              "[]"
            ]
          },
          "metadata": {
            "tags": []
          },
          "execution_count": 4
        }
      ]
    },
    {
      "cell_type": "code",
      "metadata": {
        "id": "4SAYQECCmJTR"
      },
      "source": [
        ""
      ],
      "execution_count": null,
      "outputs": []
    }
  ]
}