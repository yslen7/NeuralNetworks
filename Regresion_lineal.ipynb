{
  "nbformat": 4,
  "nbformat_minor": 0,
  "metadata": {
    "colab": {
      "name": "CIC.- Regresion lineal.ipynb",
      "provenance": []
    },
    "kernelspec": {
      "display_name": "Python 3",
      "language": "python",
      "name": "python3"
    },
    "language_info": {
      "codemirror_mode": {
        "name": "ipython",
        "version": 3
      },
      "file_extension": ".py",
      "mimetype": "text/x-python",
      "name": "python",
      "nbconvert_exporter": "python",
      "pygments_lexer": "ipython3",
      "version": "3.6.6"
    }
  },
  "cells": [
    {
      "cell_type": "code",
      "metadata": {
        "id": "Bmg7sbY3PiG_"
      },
      "source": [
        "import matplotlib.pyplot as plt\n",
        "import numpy as np\n",
        "from sklearn import datasets"
      ],
      "execution_count": null,
      "outputs": []
    },
    {
      "cell_type": "markdown",
      "metadata": {
        "id": "fA7yS63XPiHE"
      },
      "source": [
        "# Obtener los datos \n"
      ]
    },
    {
      "cell_type": "code",
      "metadata": {
        "id": "josGXclIPiHF"
      },
      "source": [
        "diabetes = datasets.load_diabetes()"
      ],
      "execution_count": null,
      "outputs": []
    },
    {
      "cell_type": "code",
      "metadata": {
        "id": "sx_j2ev2PiHJ",
        "colab": {
          "base_uri": "https://localhost:8080/",
          "height": 683
        },
        "outputId": "697bbf8a-367d-4ea4-a078-de231f394925"
      },
      "source": [
        "print(diabetes.DESCR)"
      ],
      "execution_count": null,
      "outputs": [
        {
          "output_type": "stream",
          "text": [
            ".. _diabetes_dataset:\n",
            "\n",
            "Diabetes dataset\n",
            "----------------\n",
            "\n",
            "Ten baseline variables, age, sex, body mass index, average blood\n",
            "pressure, and six blood serum measurements were obtained for each of n =\n",
            "442 diabetes patients, as well as the response of interest, a\n",
            "quantitative measure of disease progression one year after baseline.\n",
            "\n",
            "**Data Set Characteristics:**\n",
            "\n",
            "  :Number of Instances: 442\n",
            "\n",
            "  :Number of Attributes: First 10 columns are numeric predictive values\n",
            "\n",
            "  :Target: Column 11 is a quantitative measure of disease progression one year after baseline\n",
            "\n",
            "  :Attribute Information:\n",
            "      - Age\n",
            "      - Sex\n",
            "      - Body mass index\n",
            "      - Average blood pressure\n",
            "      - S1\n",
            "      - S2\n",
            "      - S3\n",
            "      - S4\n",
            "      - S5\n",
            "      - S6\n",
            "\n",
            "Note: Each of these 10 feature variables have been mean centered and scaled by the standard deviation times `n_samples` (i.e. the sum of squares of each column totals 1).\n",
            "\n",
            "Source URL:\n",
            "https://www4.stat.ncsu.edu/~boos/var.select/diabetes.html\n",
            "\n",
            "For more information see:\n",
            "Bradley Efron, Trevor Hastie, Iain Johnstone and Robert Tibshirani (2004) \"Least Angle Regression,\" Annals of Statistics (with discussion), 407-499.\n",
            "(https://web.stanford.edu/~hastie/Papers/LARS/LeastAngle_2002.pdf)\n"
          ],
          "name": "stdout"
        }
      ]
    },
    {
      "cell_type": "markdown",
      "metadata": {
        "id": "iTyTFTVTPiHP"
      },
      "source": [
        "## Seleccionando entradas y salidas \n",
        "Para este ejemplo seleccionaremos un solo dato  para predecir  que tanto progresará la enfermedad  este dato será el índice de masa corporal "
      ]
    },
    {
      "cell_type": "code",
      "metadata": {
        "id": "SNJ75ixzPiHQ"
      },
      "source": [
        "diabetes_X = diabetes.data[:,np.newaxis, 2]\n",
        "#Todos los elementos :, sklearn reciben matrices, en vez de vectores, por eso new axis generala forma del vector , posicion 2\n",
        "#tambien podria ser sin newaxis y hacer un reshape"
      ],
      "execution_count": null,
      "outputs": []
    },
    {
      "cell_type": "code",
      "metadata": {
        "id": "-JjSO3dqPiHU",
        "colab": {
          "base_uri": "https://localhost:8080/",
          "height": 34
        },
        "outputId": "fac25e76-7edf-4867-a299-8e526eb1e885"
      },
      "source": [
        "diabetes_X.shape"
      ],
      "execution_count": null,
      "outputs": [
        {
          "output_type": "execute_result",
          "data": {
            "text/plain": [
              "(442, 1)"
            ]
          },
          "metadata": {
            "tags": []
          },
          "execution_count": 8
        }
      ]
    },
    {
      "cell_type": "code",
      "metadata": {
        "id": "XU8voyyQPiHZ"
      },
      "source": [
        "diabetes_y=diabetes.target"
      ],
      "execution_count": null,
      "outputs": []
    },
    {
      "cell_type": "code",
      "metadata": {
        "id": "e0HM-QekPiHe",
        "colab": {
          "base_uri": "https://localhost:8080/",
          "height": 34
        },
        "outputId": "02173a09-ddb5-45a5-f2d6-88aef428ff40"
      },
      "source": [
        "diabetes_y.shape"
      ],
      "execution_count": null,
      "outputs": [
        {
          "output_type": "execute_result",
          "data": {
            "text/plain": [
              "(442,)"
            ]
          },
          "metadata": {
            "tags": []
          },
          "execution_count": 10
        }
      ]
    },
    {
      "cell_type": "markdown",
      "metadata": {
        "id": "4N1IClQlPiHk"
      },
      "source": [
        "## Importar el modelo"
      ]
    },
    {
      "cell_type": "code",
      "metadata": {
        "id": "w30NIVgEPiHl"
      },
      "source": [
        "from sklearn.linear_model import  LinearRegression"
      ],
      "execution_count": null,
      "outputs": []
    },
    {
      "cell_type": "markdown",
      "metadata": {
        "id": "94bLnqkbPiHt"
      },
      "source": [
        "## Ajustar Parámetros del modelo"
      ]
    },
    {
      "cell_type": "code",
      "metadata": {
        "id": "EfM9YRVDPiHu"
      },
      "source": [
        "regr = LinearRegression()"
      ],
      "execution_count": null,
      "outputs": []
    },
    {
      "cell_type": "markdown",
      "metadata": {
        "id": "qsElhWvBPiHz"
      },
      "source": [
        "## Separar los datos"
      ]
    },
    {
      "cell_type": "code",
      "metadata": {
        "id": "y92EU4OWPiH0"
      },
      "source": [
        "from sklearn.model_selection import train_test_split"
      ],
      "execution_count": null,
      "outputs": []
    },
    {
      "cell_type": "code",
      "metadata": {
        "id": "T16_Wl6JPiH5"
      },
      "source": [
        "diabetes_X_train, diabetes_X_test, diabetes_y_train, diabetes_y_test=train_test_split(diabetes_X,diabetes_y,test_size=0.15,random_state=101)"
      ],
      "execution_count": null,
      "outputs": []
    },
    {
      "cell_type": "code",
      "metadata": {
        "id": "1iBbec5aPiIC",
        "colab": {
          "base_uri": "https://localhost:8080/",
          "height": 51
        },
        "outputId": "0ed2f78b-7f1d-4842-8402-b7a2e0daf1b7"
      },
      "source": [
        "print(diabetes_X_train.shape)\n",
        "print(diabetes_y_train.shape)"
      ],
      "execution_count": null,
      "outputs": [
        {
          "output_type": "stream",
          "text": [
            "(375, 1)\n",
            "(375,)\n"
          ],
          "name": "stdout"
        }
      ]
    },
    {
      "cell_type": "code",
      "metadata": {
        "id": "t4s8i_QyPiIK",
        "colab": {
          "base_uri": "https://localhost:8080/",
          "height": 51
        },
        "outputId": "4b8ac36c-2963-4906-bd19-39662673ec6e"
      },
      "source": [
        "print(diabetes_X_test.shape)\n",
        "print(diabetes_y_test.shape)"
      ],
      "execution_count": null,
      "outputs": [
        {
          "output_type": "stream",
          "text": [
            "(67, 1)\n",
            "(67,)\n"
          ],
          "name": "stdout"
        }
      ]
    },
    {
      "cell_type": "markdown",
      "metadata": {
        "id": "wLWAy9QIPiIQ"
      },
      "source": [
        "## ajuste del modelo"
      ]
    },
    {
      "cell_type": "code",
      "metadata": {
        "id": "-7PRmZb0PiIS",
        "colab": {
          "base_uri": "https://localhost:8080/",
          "height": 34
        },
        "outputId": "01d2117e-c285-47a4-d9e0-2abf395ddc6f"
      },
      "source": [
        "regr.fit(diabetes_X_train,diabetes_y_train)"
      ],
      "execution_count": null,
      "outputs": [
        {
          "output_type": "execute_result",
          "data": {
            "text/plain": [
              "LinearRegression(copy_X=True, fit_intercept=True, n_jobs=None, normalize=False)"
            ]
          },
          "metadata": {
            "tags": []
          },
          "execution_count": 18
        }
      ]
    },
    {
      "cell_type": "markdown",
      "metadata": {
        "id": "1ApvrWrpPiIa"
      },
      "source": [
        "## Predecir resultados"
      ]
    },
    {
      "cell_type": "code",
      "metadata": {
        "id": "Ijy8hqiqPiIc"
      },
      "source": [
        "diabetes_y_pred = regr.predict(diabetes_X_test)"
      ],
      "execution_count": null,
      "outputs": []
    },
    {
      "cell_type": "code",
      "metadata": {
        "id": "SEgwI25XPiIj",
        "colab": {
          "base_uri": "https://localhost:8080/",
          "height": 265
        },
        "outputId": "92eb21ce-70ae-4121-db6c-80f1180c4510"
      },
      "source": [
        "plt.scatter(diabetes_X_test, diabetes_y_test,  color='black')\n",
        "plt.plot(diabetes_X_test, diabetes_y_pred, color='blue', linewidth=3)\n",
        "\n",
        "#plt.xticks(())\n",
        "#plt.yticks(())\n",
        "\n",
        "plt.show()"
      ],
      "execution_count": null,
      "outputs": [
        {
          "output_type": "display_data",
          "data": {
            "image/png": "[encoded data removed]",
            "text/plain": [
              "<Figure size 432x288 with 1 Axes>"
            ]
          },
          "metadata": {
            "tags": [],
            "needs_background": "light"
          }
        }
      ]
    },
    {
      "cell_type": "markdown",
      "metadata": {
        "id": "g2KuAkEuPiIo"
      },
      "source": [
        "## Evaluar al modelo \n",
        "\n",
        "Se puede decir que una regresión lineal plantea que existe una relación proporcional entre las entradas y las salidas"
      ]
    },
    {
      "cell_type": "code",
      "metadata": {
        "id": "YITVwlwfPiIp",
        "colab": {
          "base_uri": "https://localhost:8080/",
          "height": 51
        },
        "outputId": "66255525-3034-4693-e3e0-6585a76171c4"
      },
      "source": [
        "print('Coefficients: \\n', regr.coef_)"
      ],
      "execution_count": null,
      "outputs": [
        {
          "output_type": "stream",
          "text": [
            "Coefficients: \n",
            " [957.81217603]\n"
          ],
          "name": "stdout"
        }
      ]
    },
    {
      "cell_type": "markdown",
      "metadata": {
        "id": "Oh--TgvEPiIv"
      },
      "source": [
        "\n",
        "## Midiendo el error \n",
        "\n",
        "Es necesario encontrar una manera de medir el error de una forma numérica a esto se le denomina perdida \n"
      ]
    },
    {
      "cell_type": "code",
      "metadata": {
        "id": "_0AlyK6GPiIw"
      },
      "source": [
        "from sklearn.metrics import mean_squared_error"
      ],
      "execution_count": null,
      "outputs": []
    },
    {
      "cell_type": "code",
      "metadata": {
        "id": "RirzvesxPiI0",
        "colab": {
          "base_uri": "https://localhost:8080/",
          "height": 34
        },
        "outputId": "39ff6c83-92ee-465c-8a2b-eda0c86d3426"
      },
      "source": [
        "print(\"Mean squared error: %.2f\"\n",
        "      % mean_squared_error(diabetes_y_test, diabetes_y_pred))\n",
        "#Se calcula el error cuadrático medio para cada valor. Este valor es malo o bueno?"
      ],
      "execution_count": null,
      "outputs": [
        {
          "output_type": "stream",
          "text": [
            "Mean squared error: 4062.51\n"
          ],
          "name": "stdout"
        }
      ]
    }
  ]
}